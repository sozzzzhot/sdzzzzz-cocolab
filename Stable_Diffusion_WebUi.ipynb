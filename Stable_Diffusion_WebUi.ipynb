{
  "cells": [
    {
      "cell_type": "markdown",
      "source": [
        "https://colab.research.google.com/github/sozzzzhot/Test/blob/main/Stable_Diffusion_WebUi.ipynb"
      ],
      "metadata": {
        "id": "mIMkr-KzKRfQ"
      }
    },
    {
      "cell_type": "code",
      "execution_count": null,
      "metadata": {
        "id": "SaAJk33ppFw1",
        "cellView": "form"
      },
      "outputs": [],
      "source": [
        "%cd /content\n",
        "\n",
        "%env TF_CPP_MIN_LOG_LEVEL=1\n",
        "\n",
        "!apt -y update -qq\n",
        "!wget http://launchpadlibrarian.net/367274644/libgoogle-perftools-dev_2.5-2.2ubuntu3_amd64.deb\n",
        "!wget https://launchpad.net/ubuntu/+source/google-perftools/2.5-2.2ubuntu3/+build/14795286/+files/google-perftools_2.5-2.2ubuntu3_all.deb\n",
        "!wget https://launchpad.net/ubuntu/+source/google-perftools/2.5-2.2ubuntu3/+build/14795286/+files/libtcmalloc-minimal4_2.5-2.2ubuntu3_amd64.deb\n",
        "!wget https://launchpad.net/ubuntu/+source/google-perftools/2.5-2.2ubuntu3/+build/14795286/+files/libgoogle-perftools4_2.5-2.2ubuntu3_amd64.deb\n",
        "!apt install -qq libunwind8-dev\n",
        "!dpkg -i *.deb\n",
        "%env LD_PRELOAD=libtcmalloc.so\n",
        "!rm *.deb\n",
        "\n",
        "!apt -y install -qq aria2 libcairo2-dev pkg-config python3-dev\n",
        "!pip install -q xformers==0.0.20 triton==2.0.0 -U\n",
        "\n",
        "!git clone -b v2.4 https://github.com/camenduru/ui\n",
        "!git clone https://huggingface.co/embed/negative /content/ui/embeddings/negative\n",
        "#!git clone https://huggingface.co/embed/lora /content/ui/models/Lora/positive\n",
        "#!aria2c --console-log-level=error -c -x 16 -s 16 -k 1M https://huggingface.co/embed/upscale/resolve/main/4x-UltraSharp.pth -d /content/ui/models/ESRGAN -o 4x-UltraSharp.pth\n",
        "#!git clone https://github.com/camenduru/sd-civitai-browser /content/ui/extensions/sd-civitai-browser\n",
        "!git clone https://github.com/camenduru/control /content/ui/extensions/control\n",
        "#!git clone https://github.com/fkunn1326/openpose-editor /content/ui/extensions/openpose-editor\n",
        "!git clone https://github.com/camenduru/tunnels /content/ui/extensions/tunnels\n",
        "%cd /content/ui\n",
        "!git reset --hard\n",
        "!git -C /content/ui/repositories/stable-diffusion-stability-ai reset --hard\n",
        "\n",
        "\n",
        "# Variables\n",
        "model_path = \"/content/ui/models/Stable-diffusion\"\n",
        "ext_path = \"/content/ui/extensions\"\n",
        "vae_path = \"/content/ui/models/VAE\"\n",
        "lora_path = \"/content/ui/models/Lora\"\n",
        "controlnet_path = \"/content/ui/extensions/sd-webui-controlnet/models\"\n",
        "embd_path = \"/content/ui/embeddings\"\n",
        "config_path = \"/content/ui/config.json\"\n",
        "\n",
        "#@markdown #这个必填ModelLink\n",
        "Model_Link = \"https://huggingface.co/mnvvc/inpainting-lab/resolve/main/chilloutmix_NiPrunedFp32Fix-inpainting.inpainting.safetensors\" #@param {type:\"string\"}\n",
        "\n",
        "#@markdown #可选项，如果你想多加些模型用。\n",
        "Model_Link2 = \"\" #@param {type:\"string\"}\n",
        "Model_Link3 = \"\" #@param {type:\"string\"}\n",
        "Model_Link4 = \"\" #@param {type:\"string\"}\n",
        "#@markdown ##可选项，去下载lora网站，在下载按钮右键复制下载链接。第一个是示例。\n",
        "#Lora\n",
        "lora1 = \"https://civitai.com/api/download/models/23250\" #@param {type:\"string\"}\n",
        "lora2 = \"\" #@param {type:\"string\"}\n",
        "lora3 = \"\" #@param {type:\"string\"}\n",
        "lora4 = \"\" #@param {type:\"string\"}\n",
        "lora5 = \"\" #@param {type:\"string\"}\n",
        "lora6 = \"\" #@param {type:\"string\"}\n",
        "lora7 = \"\" #@param {type:\"string\"}\n",
        "lora8 = \"\" #@param {type:\"string\"}\n",
        "lora9 = \"\" #@param {type:\"string\"}\n",
        "lora10 = \"\" #@param {type:\"string\"}\n",
        "if lora1 != '':\n",
        "  !wget $lora1 -P $lora_path --content-disposition\n",
        "if lora2 != '':\n",
        "  !wget $lora2 -P $lora_path --content-disposition\n",
        "if lora3 != '':\n",
        "  !wget $lora3 -P $lora_path --content-disposition\n",
        "if lora4 != '':\n",
        "  !wget $lora4 -P $lora_path --content-disposition\n",
        "if lora5 != '':\n",
        "  !wget $lora5 -P $lora_path --content-disposition\n",
        "if lora6 != '':\n",
        "  !wget $lora6 -P $lora_path --content-disposition\n",
        "if lora7 != '':\n",
        "  !wget $lora7 -P $lora_path --content-disposition\n",
        "if lora8 != '':\n",
        "  !wget $lora8 -P $lora_path --content-disposition\n",
        "if lora9 != '':\n",
        "  !wget $lora9 -P $lora_path --content-disposition\n",
        "if lora10 != '':\n",
        "  !wget $lora10 -P $lora_path --content-disposition\n",
        "\n",
        "if Model_Link != \"\":\n",
        "    !wget $Model_Link -P $model_path --content-disposition\n",
        "if Model_Link2 != \"\":\n",
        "    !wget $Model_Link2 -P $model_path --content-disposition\n",
        "if Model_Link3 != \"\":\n",
        "    !wget $Model_Link3 -P $model_path --content-disposition\n",
        "if Model_Link4 != \"\":\n",
        "    !wget $Model_Link4 -P $model_path --content-disposition\n",
        "\n",
        "!wget https://raw.githubusercontent.com/sozzzzhot/sdzzzzz-cocolab/main/ui.js -O javascript/ui.js\n",
        "!wget https://raw.githubusercontent.com/sozzzzhot/sdzzzzz-cocolab/main/ui.py -O modules/ui.py\n",
        "!wget 'https://raw.githubusercontent.com/hanamizuki-ai/stable-diffusion-webui-localization-zh_Hans/master/localizations/zh-Hans%20(Stable).json' -O localizations/zh-Hans.json\n",
        "!git clone https://github.com/thomasasfk/sd-webui-aspect-ratio-helper $ext_path/sd-webui-aspect-ratio-helper\n",
        "#!aria2c --console-log-level=error -c -x 16 -s 16 -k 1M https://huggingface.co/ckpt/sd14/resolve/main/sd-v1-4.ckpt -d /content/ui/models/Stable-diffusion -o sd-v1-4.ckpt\n",
        "\n",
        "!sed -i -e '''/from modules import launch_utils/a\\import os''' /content/ui/launch.py\n",
        "!sed -i -e '''/        prepare_environment()/a\\        os.system\\(f\\\"\"\"sed -i -e ''\\\"s/dict()))/dict())).cuda()/g\\\"'' /content/ui/repositories/stable-diffusion-stability-ai/ldm/util.py\"\"\")''' /content/ui/launch.py\n",
        "!sed -i -e 's/\\[\"sd_model_checkpoint\"\\]/\\[\"sd_model_checkpoint\",\"sd_vae\",\"CLIP_stop_at_last_layers\"\\]/g' /content/ui/modules/shared.py\n",
        "\n",
        "!python launch.py --listen --xformers --enable-insecure-extension-access --theme dark --gradio-queue --multiple"
      ]
    },
    {
      "cell_type": "code",
      "source": [
        "!python launch.py --listen --xformers --enable-insecure-extension-access --theme dark --gradio-queue --multiple"
      ],
      "metadata": {
        "id": "12nw6ukIIUWR"
      },
      "execution_count": null,
      "outputs": []
    }
  ],
  "metadata": {
    "accelerator": "GPU",
    "colab": {
      "private_outputs": true,
      "provenance": []
    },
    "gpuClass": "standard",
    "kernelspec": {
      "display_name": "Python 3",
      "name": "python3"
    },
    "language_info": {
      "name": "python"
    }
  },
  "nbformat": 4,
  "nbformat_minor": 0
}
