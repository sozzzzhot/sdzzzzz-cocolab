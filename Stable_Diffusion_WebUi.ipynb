{
  "cells": [
    {
      "cell_type": "markdown",
      "source": [
        "https://colab.research.google.com/github/sozzzzhot/Test/blob/main/Stable_Diffusion_WebUi.ipynb"
      ],
      "metadata": {
        "id": "mIMkr-KzKRfQ"
      }
    },
    {
      "cell_type": "code",
      "execution_count": null,
      "metadata": {
        "id": "SaAJk33ppFw1",
        "cellView": "form"
      },
      "outputs": [],
      "source": [
        
      ]
    },
    {
      "cell_type": "code",
      "source": [
        
      ],
      "metadata": {
        "id": "12nw6ukIIUWR"
      },
      "execution_count": null,
      "outputs": []
    }
  ],
  "metadata": {
    "accelerator": "GPU",
    "colab": {
      "private_outputs": true,
      "provenance": []
    },
    "gpuClass": "standard",
    "kernelspec": {
      "display_name": "Python 3",
      "name": "python3"
    },
    "language_info": {
      "name": "python"
    }
  },
  "nbformat": 4,
  "nbformat_minor": 0
}
