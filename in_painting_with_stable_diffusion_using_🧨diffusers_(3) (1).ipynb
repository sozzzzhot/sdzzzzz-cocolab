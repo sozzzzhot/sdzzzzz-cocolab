{
  "nbformat": 4,
  "nbformat_minor": 0,
  "metadata": {
    "colab": {
      "provenance": [],
      "machine_shape": "hm"
    },
    "kernelspec": {
      "name": "python3",
      "display_name": "Python 3"
    },
    "language_info": {
      "name": "python"
    },
    "accelerator": "GPU",
    "gpuClass": "standard"
  },
  "cells": [
    {
      "cell_type": "code",
      "source": [
        "!pip install -qq -U diffusers transformers ftfy gradio accelerate\n",
        "!pip install omegaconf\n",
        "!pip install httpx==0.24.1\n",
        "import inspect\n",
        "from typing import List, Optional, Union\n",
        "#@markdown 1. 填好链接，运行这个代码块\n",
        "#@markdown 2. 运行完点下方的Restart runtime (在红色输出旁有个按钮\n",
        "#@markdown 3. 再运行一次这个代码块\n",
        "#@markdown 4. 然后运行下方随便一个RUN\n",
        "import numpy as np\n",
        "import torch\n",
        "\n",
        "import PIL\n",
        "import gradio as gr\n",
        "from diffusers import StableDiffusionInpaintPipeline\n",
        "\n",
        "Link = '' #@param {type:\"string\"}\n",
        "!mkdir 'model'\n",
        "name = 'epicrealism_v10-inpainting.safetensors' #@param {type:\"string\"}\n",
        "import os\n",
        "file_name = '/content/model/' + name\n",
        "if not os.path.exists('./model/'+name):\n",
        "  !wget -O $file_name   $Link\n",
        "\n",
        "device = \"cuda\"\n",
        "pipe = StableDiffusionInpaintPipeline.from_single_file(\n",
        "    '/content/model/' + name,\n",
        "    torch_dtype=torch.float16,\n",
        "    load_safety_checker =False,\n",
        "    local_files_only=True\n",
        ").to(device)"
      ],
      "metadata": {
        "cellView": "form",
        "id": "OPkPYWZpwhpa"
      },
      "execution_count": null,
      "outputs": []
    },
    {
      "cell_type": "code",
      "source": [
        "#@markdown RUN\n",
        "MAX_W = 400 #@param {type:\"number\"}\n",
        "MAX_H = 1200 #@param {type:\"number\"}\n",
        "def predict2(dict, prompt,negative_prompt):\n",
        "  w,h = dict['image'].size\n",
        "  while w*h > MAX_W*MAX_H:\n",
        "    w = int(w/1.1)\n",
        "    h = int(h/1.1)\n",
        "  while w%8 !=0:\n",
        "    w += 1\n",
        "  while h%8 != 0:\n",
        "    h += 1\n",
        "  image =  dict['image'].convert(\"RGB\").resize((w, h))\n",
        "  mask_image = dict['mask'].convert(\"RGB\").resize((w, h))\n",
        "  images = pipe(guidance_scale=4.5,prompt=prompt, negative_prompt=negative_prompt,image=image, mask_image=mask_image,height=h,width=w).images\n",
        "  return(images[0])\n",
        "gr.Interface(\n",
        "    predict2,\n",
        "    title = 'Stable Diffusion In-Painting',\n",
        "    inputs=[\n",
        "        gr.Image(source = 'upload', tool = 'sketch', type = 'pil'),\n",
        "        gr.Textbox(label = 'prompt'),\n",
        "        gr.Textbox(label='negative_prompt')\n",
        "    ],\n",
        "    outputs=[\n",
        "        gr.Image()\n",
        "    ],\n",
        "    layout=\"vertical\"\n",
        "\n",
        ").launch(debug=True)"
      ],
      "metadata": {
        "cellView": "form",
        "id": "AuZLSf5qg7VA"
      },
      "execution_count": null,
      "outputs": []
    },
    {
      "cell_type": "code",
      "source": [
        "#@markdown RUN\n",
        "MAX_W = 400 #@param {type:\"number\"}\n",
        "MAX_H = 1200 #@param {type:\"number\"}\n",
        "def predict2(dict, prompt,negative_prompt):\n",
        "  w,h = dict['image'].size\n",
        "  while w*h > MAX_W*MAX_H:\n",
        "    w = int(w/1.1)\n",
        "    h = int(h/1.1)\n",
        "  while w%8 !=0:\n",
        "    w += 1\n",
        "  while h%8 != 0:\n",
        "    h += 1\n",
        "  image =  dict['image'].convert(\"RGB\").resize((w, h))\n",
        "  mask_image = dict['mask'].convert(\"RGB\").resize((w, h))\n",
        "  images = pipe(guidance_scale=4.5,prompt=prompt, negative_prompt=negative_prompt,image=image, mask_image=mask_image,height=h,width=w).images\n",
        "  return(images[0])\n",
        "gr.Interface(\n",
        "    predict2,\n",
        "    title = 'Stable Diffusion In-Painting',\n",
        "    inputs=[\n",
        "        gr.Image(source = 'upload', tool = 'sketch', type = 'pil',width=1000,height=1000),\n",
        "        gr.Textbox(label = 'prompt'),\n",
        "        gr.Textbox(label='negative_prompt')\n",
        "    ],\n",
        "    outputs=[\n",
        "        gr.Image()\n",
        "    ],\n",
        "    layout=\"vertical\"\n",
        "\n",
        ").launch(debug=True)"
      ],
      "metadata": {
        "cellView": "form",
        "id": "rz2mKBQfvard"
      },
      "execution_count": null,
      "outputs": []
    }
  ]
}
