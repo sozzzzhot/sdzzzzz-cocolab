{
  "nbformat": 4,
  "nbformat_minor": 0,
  "metadata": {
    "colab": {
      "provenance": [],
      "machine_shape": "hm"
    },
    "kernelspec": {
      "name": "python3",
      "display_name": "Python 3"
    },
    "language_info": {
      "name": "python"
    },
    "accelerator": "GPU",
    "gpuClass": "standard"
  },
  "cells": [
    {
      "cell_type": "code",
      "source": [
        "!pip install -qq -U diffusers transformers ftfy gradio accelerate\n",
        "!pip install omegaconf\n",
        "import inspect\n",
        "from typing import List, Optional, Union\n",
        "#@markdown 运行完点重启\n",
        "import numpy as np\n",
        "import torch\n",
        "\n",
        "import PIL\n",
        "import gradio as gr\n",
        "from diffusers import StableDiffusionInpaintPipeline\n",
        "\n",
        "Link = '' #@param {type:\"string\"}\n",
        "!mkdir 'model'\n",
        "name = 'dreamshaper_8Inpainting.safetensors' #@param {type:\"string\"}\n",
        "import os\n",
        "if not os.path.exists('./model/'+name):\n",
        "  !wget $Link -P 'model' --content-disposition\n",
        "\n",
        "device = \"cuda\"\n",
        "pipe = StableDiffusionInpaintPipeline.from_single_file(\n",
        "    '/content/model/dreamshaper_8Inpainting.safetensors',\n",
        "    torch_dtype=torch.float16,\n",
        "    load_safety_checker =False,\n",
        "    local_files_only=True\n",
        ").to(device)"
      ],
      "metadata": {
        "cellView": "form",
        "id": "OPkPYWZpwhpa"
      },
      "execution_count": null,
      "outputs": []
    },
    {
      "cell_type": "code",
      "source": [
        "#@markdown RUN\n",
        "MAX_W = 400 #@param {type:\"number\"}\n",
        "MAX_H = 1200 #@param {type:\"number\"}\n",
        "def predict2(dict, prompt,negative_prompt):\n",
        "  w,h = dict['image'].size\n",
        "  while w*h > MAX_W*MAX_H:\n",
        "    w = int(w/1.1)\n",
        "    h = int(h/1.1)\n",
        "  while w%8 !=0:\n",
        "    w += 1\n",
        "  while h%8 != 0:\n",
        "    h += 1\n",
        "  image =  dict['image'].convert(\"RGB\").resize((w, h))\n",
        "  mask_image = dict['mask'].convert(\"RGB\").resize((w, h))\n",
        "  images = pipe(prompt=prompt, negative_prompt=negative_prompt,image=image, mask_image=mask_image,height=h,width=w).images\n",
        "  return(images[0])\n",
        "gr.Interface(\n",
        "    predict2,\n",
        "    title = 'Stable Diffusion In-Painting',\n",
        "    inputs=[\n",
        "        gr.Image(source = 'upload', tool = 'sketch', type = 'pil'),\n",
        "        gr.Textbox(label = 'prompt'),\n",
        "        gr.Textbox(label='negative_prompt')\n",
        "    ],\n",
        "    outputs=[\n",
        "        gr.Image()\n",
        "    ],\n",
        "    layout=\"vertical\"\n",
        "\n",
        ").launch(debug=True)"
      ],
      "metadata": {
        "cellView": "form",
        "id": "AuZLSf5qg7VA"
      },
      "execution_count": null,
      "outputs": []
    },
    {
      "cell_type": "code",
      "source": [
        "#@markdown RUN\n",
        "MAX_W = 400 #@param {type:\"number\"}\n",
        "MAX_H = 1200 #@param {type:\"number\"}\n",
        "def predict2(dict, prompt,negative_prompt):\n",
        "  w,h = dict['image'].size\n",
        "  while w*h > MAX_W*MAX_H:\n",
        "    w = int(w/1.1)\n",
        "    h = int(h/1.1)\n",
        "  while w%8 !=0:\n",
        "    w += 1\n",
        "  while h%8 != 0:\n",
        "    h += 1\n",
        "  image =  dict['image'].convert(\"RGB\").resize((w, h))\n",
        "  mask_image = dict['mask'].convert(\"RGB\").resize((w, h))\n",
        "  images = pipe(prompt=prompt, negative_prompt=negative_prompt,image=image, mask_image=mask_image,height=h,width=w).images\n",
        "  return(images[0])\n",
        "gr.Interface(\n",
        "    predict2,\n",
        "    title = 'Stable Diffusion In-Painting',\n",
        "    inputs=[\n",
        "        gr.Image(source = 'upload', tool = 'sketch', type = 'pil',width=1000,height=1000),\n",
        "        gr.Textbox(label = 'prompt'),\n",
        "        gr.Textbox(label='negative_prompt')\n",
        "    ],\n",
        "    outputs=[\n",
        "        gr.Image()\n",
        "    ],\n",
        "    layout=\"vertical\"\n",
        "\n",
        ").launch(debug=True)"
      ],
      "metadata": {
        "cellView": "form",
        "id": "rz2mKBQfvard"
      },
      "execution_count": null,
      "outputs": []
    }
  ]
}